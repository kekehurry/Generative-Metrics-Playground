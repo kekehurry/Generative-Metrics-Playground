{
 "cells": [
  {
   "cell_type": "code",
   "execution_count": 16,
   "metadata": {},
   "outputs": [
    {
     "name": "stdout",
     "output_type": "stream",
     "text": [
      "/Users/kai/Library/CloudStorage/GoogleDrive-kaihu@media.mit.edu/My Drive/Generative-Metrics-main/output/input.json\n",
      "office_space: 2753.3700000000003 amenity_space: 1835.5800000000004 civic_space: 2753.3700000000003 resident_space: 1835.5800000000004 open_space: 27533.7 green_space: 13766.85\n"
     ]
    },
    {
     "ename": "TypeError",
     "evalue": "refresh_input() takes 0 positional arguments but 1 was given",
     "output_type": "error",
     "traceback": [
      "\u001b[0;31m---------------------------------------------------------------------------\u001b[0m",
      "\u001b[0;31mTypeError\u001b[0m                                 Traceback (most recent call last)",
      "\u001b[1;32m/Users/kai/Library/CloudStorage/GoogleDrive-kaihu@media.mit.edu/My Drive/Generative-Metrics-main/test.ipynb Cell 1\u001b[0m line \u001b[0;36m7\n\u001b[1;32m      <a href='vscode-notebook-cell:/Users/kai/Library/CloudStorage/GoogleDrive-kaihu%40media.mit.edu/My%20Drive/Generative-Metrics-main/test.ipynb#W0sZmlsZQ%3D%3D?line=3'>4</a>\u001b[0m \u001b[39mfrom\u001b[39;00m \u001b[39mbackend\u001b[39;00m\u001b[39m.\u001b[39;00m\u001b[39minput_data\u001b[39;00m \u001b[39mimport\u001b[39;00m refresh_input\n\u001b[1;32m      <a href='vscode-notebook-cell:/Users/kai/Library/CloudStorage/GoogleDrive-kaihu%40media.mit.edu/My%20Drive/Generative-Metrics-main/test.ipynb#W0sZmlsZQ%3D%3D?line=5'>6</a>\u001b[0m input_json \u001b[39m=\u001b[39m {\u001b[39m\"\u001b[39m\u001b[39mbcr\u001b[39m\u001b[39m\"\u001b[39m: \u001b[39m0.9\u001b[39m, \u001b[39m\"\u001b[39m\u001b[39mtier\u001b[39m\u001b[39m\"\u001b[39m: \u001b[39m3\u001b[39m, \u001b[39m\"\u001b[39m\u001b[39mresidential\u001b[39m\u001b[39m\"\u001b[39m: \u001b[39m0.0\u001b[39m, \u001b[39m\"\u001b[39m\u001b[39moffice\u001b[39m\u001b[39m\"\u001b[39m: \u001b[39m0.5\u001b[39m, \u001b[39m\"\u001b[39m\u001b[39mamenity\u001b[39m\u001b[39m\"\u001b[39m: \u001b[39m0.2\u001b[39m, \u001b[39m\"\u001b[39m\u001b[39mcivic\u001b[39m\u001b[39m\"\u001b[39m: \u001b[39m0.3\u001b[39m}\n\u001b[0;32m----> <a href='vscode-notebook-cell:/Users/kai/Library/CloudStorage/GoogleDrive-kaihu%40media.mit.edu/My%20Drive/Generative-Metrics-main/test.ipynb#W0sZmlsZQ%3D%3D?line=6'>7</a>\u001b[0m refresh_input(input_json)\n\u001b[1;32m      <a href='vscode-notebook-cell:/Users/kai/Library/CloudStorage/GoogleDrive-kaihu%40media.mit.edu/My%20Drive/Generative-Metrics-main/test.ipynb#W0sZmlsZQ%3D%3D?line=7'>8</a>\u001b[0m affordability_index \u001b[39m=\u001b[39m cal_future_affordability_index()\n\u001b[1;32m      <a href='vscode-notebook-cell:/Users/kai/Library/CloudStorage/GoogleDrive-kaihu%40media.mit.edu/My%20Drive/Generative-Metrics-main/test.ipynb#W0sZmlsZQ%3D%3D?line=8'>9</a>\u001b[0m tax_revenue_index \u001b[39m=\u001b[39m cal_future_tax_revenue_index()\n",
      "\u001b[0;31mTypeError\u001b[0m: refresh_input() takes 0 positional arguments but 1 was given"
     ]
    }
   ],
   "source": [
    "from backend.resident_model import cal_future_affordability_index\n",
    "from backend.government_model import cal_future_tax_revenue_index\n",
    "from backend.developer_model import cal_future_profit_index\n",
    "from backend.input_data import refresh_input\n",
    "\n",
    "input_json = {\"bcr\": 0.9, \"tier\": 3, \"residential\": 0.0, \"office\": 0.5, \"amenity\": 0.2, \"civic\": 0.3}\n",
    "refresh_input(input_json)\n",
    "affordability_index = cal_future_affordability_index()\n",
    "tax_revenue_index = cal_future_tax_revenue_index()\n",
    "profit_index = cal_future_profit_index()\n",
    "print(affordability_index,tax_revenue_index,profit_index)"
   ]
  },
  {
   "cell_type": "code",
   "execution_count": null,
   "metadata": {},
   "outputs": [],
   "source": [
    "import numpy as np\n",
    "import math\n",
    "def cal_surface_to_volume_ratio(state):\n",
    "    matrix = (state!=0)\n",
    "    volume = np.sum(matrix)\n",
    "    surface_area = 0\n",
    "    # 在三个维度上都填充一个0边界\n",
    "    padded_matrix = np.pad(matrix, pad_width=1, mode='constant', constant_values=0)\n",
    "    # 对于每一个方向，检查邻居是否存在\n",
    "    directions = [(1, 0, 0), (-1, 0, 0), (0, 1, 0), (0, -1, 0), (0, 0, 1), (0, 0, -1)]\n",
    "    for dx, dy, dz in directions:\n",
    "        # 使用numpy的roll函数来移动数组，使得对应的邻居可以对齐\n",
    "        neighbor = np.roll(padded_matrix, shift=(dx, dy, dz), axis=(0, 1, 2))\n",
    "        surface_area += np.sum(padded_matrix * (padded_matrix != neighbor))\n",
    "    surface_to_volume_ratio = surface_area/volume\n",
    "    return surface_to_volume_ratio\n",
    "\n",
    "def cal_surface_to_volume_index(state):\n",
    "    surface_to_volume_ratio = cal_surface_to_volume_ratio(state)\n",
    "    target_ratio = 0.3\n",
    "    sigma = 1\n",
    "    score = math.exp(-((surface_to_volume_ratio  - target_ratio) ** 2) / (2 * sigma ** 2))\n",
    "    surface_to_volume_index = 100 * score\n",
    "    return surface_to_volume_index\n",
    "    "
   ]
  },
  {
   "cell_type": "code",
   "execution_count": null,
   "metadata": {},
   "outputs": [],
   "source": []
  },
  {
   "cell_type": "code",
   "execution_count": null,
   "metadata": {},
   "outputs": [
    {
     "name": "stdout",
     "output_type": "stream",
     "text": [
      "[[ 0 17 18 20 21 21 20 18 17  0]\n",
      " [17 19 20 21 22 22 21 20 19 17]\n",
      " [18 20 21 22 23 23 22 21 20 18]\n",
      " [20 21 22 23 24 24 23 22 21 20]\n",
      " [21 22 23 24 25 25 24 23 22 21]\n",
      " [21 22 23 24 25  0  0  0  0  0]\n",
      " [20 21 22 23 24  0  0  0  0  0]\n",
      " [19 20 21 22 23  0  0  0  0  0]\n",
      " [18 19 20 21 22  0  0  0  0  0]\n",
      " [17 18 19 20 21  0  0  0  0  0]]\n"
     ]
    }
   ],
   "source": [
    "import numpy as np\n",
    "def cal_sky_view(state):\n",
    "    matrix = (state!=0)\n",
    "    sky_view = np.zeros((10, 10), dtype=int)\n",
    "    for x in range(10):\n",
    "        for y in range(10):\n",
    "            if matrix[x, y, 0] == 0:\n",
    "                directions = [\n",
    "                    (1, 0, 2),   # x 30\n",
    "                    (-1, 0, 2),  # x -30\n",
    "                    (0, 1, 2),   # y 30\n",
    "                    (0, -1, 2),  # y -30\n",
    "                    (0, 0, 1)    # z vertical\n",
    "                ]\n",
    "                for dx, dy, dz in directions:\n",
    "                    x_current, y_current, z_current = x, y, 0\n",
    "                    while 0 <= x_current < 10 and 0 <= y_current < 10 and 0 <= z_current < 10:\n",
    "                        x_current += dx\n",
    "                        y_current += dy\n",
    "                        z_current += dz\n",
    "                        if 0 <= x_current < 10 and 0 <= y_current < 10 and 0 <= z_current < 10:\n",
    "                            if matrix[x_current, y_current, z_current] == 0:\n",
    "                                sky_view[x, y] += 1\n",
    "                            else:\n",
    "                                break\n",
    "\n",
    "    return sky_view\n",
    "def cal_sky_view_index(state):\n",
    "    sky_view = cal_sky_view(state)\n",
    "    sky_view_index = np.sum(sky_view/25)\n",
    "    return sky_view_index"
   ]
  },
  {
   "cell_type": "code",
   "execution_count": null,
   "metadata": {},
   "outputs": [],
   "source": [
    "import numpy as np\n",
    "import matplotlib.pyplot as plt\n",
    "import math\n",
    "\n",
    "def compute_score(value):\n",
    "    mu = 0.3\n",
    "    sigma = 1\n",
    "    score = math.exp(-((value - mu) ** 2) / (2 * sigma ** 2))\n",
    "    normalized_score = 100 * score\n",
    "    return normalized_score\n"
   ]
  },
  {
   "cell_type": "code",
   "execution_count": null,
   "metadata": {},
   "outputs": [],
   "source": [
    "def get_normalized_score(value,target,sigma=1):\n",
    "    score = np.exp(-((value - target) ** 2) / (2 * sigma ** 2))\n",
    "    normalized_score = score\n",
    "    return normalized_score"
   ]
  },
  {
   "cell_type": "code",
   "execution_count": null,
   "metadata": {},
   "outputs": [
    {
     "name": "stdout",
     "output_type": "stream",
     "text": [
      "8.905195524210919\n"
     ]
    }
   ],
   "source": [
    "from PIL import Image\n",
    "ref_img = Image.open('ref.png').resize((10,10)).convert('L')\n",
    "ref_state = np.array(ref_img)/255.\n",
    "\n",
    "state = np.count_nonzero(np.random.randint(0,10,(10,10,10)),axis=-1)/10\n",
    "\n",
    "normalized_score = get_normalized_score(state,ref_state,sigma=0.1)\n",
    "print(np.sum(normalized_score))"
   ]
  },
  {
   "cell_type": "code",
   "execution_count": null,
   "metadata": {},
   "outputs": [],
   "source": [
    "def get_score(input_json):\n",
    "    # api_address = \"http://18.27.114.99:5001/\"\n",
    "    api_address = \"http://127.0.0.1:5001/\"\n",
    "    #api\n",
    "    requests.post(api_address+\"api/save_data/input\",json=input_json)\n",
    "    compute = requests.post(api_address+\"/api/compute\")\n",
    "    output = requests.get(api_address+\"/api/get_data/index_score.json\")\n",
    "    score = output.json()\n",
    "    df = pd.DataFrame(score)\n",
    "    r_score = df['score'][df['stakeholder']=='Residents'].item()\n",
    "    g_score = df['score'][df['stakeholder']=='Government'].item()\n",
    "    d_score = df['score'][df['stakeholder']=='Developer'].item()\n",
    "    return r_score,g_score,d_score"
   ]
  },
  {
   "cell_type": "code",
   "execution_count": 16,
   "metadata": {},
   "outputs": [
    {
     "name": "stdout",
     "output_type": "stream",
     "text": [
      "[{'baseline': 77.32, 'indicator': 'Affordability', 'score': 83.83, 'stakeholder': 'Residents'}, {'baseline': 0.0, 'indicator': 'Tax revenue', 'score': 17.8673140567, 'stakeholder': 'Government'}, {'baseline': 0.0, 'indicator': 'Profit', 'score': 87.86, 'stakeholder': 'Developer'}, {'baseline': 0.55, 'indicator': 'Access to service', 'score': 0.1333703383, 'stakeholder': 'Industry Group'}, {'baseline': 0.55, 'indicator': 'Opportunity', 'score': 0.1333703383, 'stakeholder': 'Industry Group'}, {'baseline': 1.0, 'indicator': 'Safety & security', 'score': 0.7205648101, 'stakeholder': 'Industry Group'}, {'baseline': 0.0, 'indicator': 'Innovation', 'score': 0.7205648101, 'stakeholder': 'Industry Group'}, {'baseline': 0.3, 'indicator': 'Finance', 'score': 0.3539072762, 'stakeholder': 'Local Business Owners'}, {'baseline': 1.0, 'indicator': 'Safety & security', 'score': 0.8454806264, 'stakeholder': 'Local Business Owners'}, {'baseline': 0.55, 'indicator': 'Access to service', 'score': 0.5697712393, 'stakeholder': 'Nonprofit Institution'}, {'baseline': 1.0, 'indicator': 'Safety & security', 'score': 0.9213653593, 'stakeholder': 'Nonprofit Institution'}, {'baseline': 0.0, 'indicator': 'Innovation', 'score': 0.1476926791, 'stakeholder': 'Nonprofit Institution'}]\n"
     ]
    }
   ],
   "source": [
    "import requests\n",
    "input_json = {\"bcr\": 0.8, \"tier\": 3, \"residential\": 0.1, \"office\": 0.4, \"amenity\": 0.2, \"civic\": 0.3}\n",
    "server_url = \"http://127.0.0.1:5000\"\n",
    "requests.post(server_url+'/api/receive_values',json=input_json)\n",
    "requests.post(server_url+\"/api/save_data/input\",json=input_json)\n",
    "requests.get(server_url+\"/api/compute\")\n",
    "output = requests.get(server_url+\"/api/get_data/index_score.json\")\n",
    "requests.get(server_url+\"/api/refresh\")\n",
    "print(output.json())"
   ]
  },
  {
   "cell_type": "code",
   "execution_count": null,
   "metadata": {},
   "outputs": [],
   "source": []
  }
 ],
 "metadata": {
  "kernelspec": {
   "display_name": "pytorch",
   "language": "python",
   "name": "python3"
  },
  "language_info": {
   "codemirror_mode": {
    "name": "ipython",
    "version": 3
   },
   "file_extension": ".py",
   "mimetype": "text/x-python",
   "name": "python",
   "nbconvert_exporter": "python",
   "pygments_lexer": "ipython3",
   "version": "3.11.5"
  }
 },
 "nbformat": 4,
 "nbformat_minor": 2
}
